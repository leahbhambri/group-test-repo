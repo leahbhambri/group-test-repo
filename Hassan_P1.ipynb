{
 "cells": [
  {
   "cell_type": "code",
   "execution_count": 1,
   "metadata": {},
   "outputs": [],
   "source": [
    "import pandas as pd\n",
    "import matplotlib.pyplot as plt\n",
    "from matplotlib import cm\n",
    "import numpy as np\n",
    "from pprint import pprint\n",
    "viridis = cm.get_cmap('viridis', 10)"
   ]
  },
  {
   "cell_type": "code",
   "execution_count": 2,
   "metadata": {},
   "outputs": [],
   "source": [
    "#importing the data\n",
    "data = pd.read_csv(\"resources\\ss13pusa.csv\")"
   ]
  },
  {
   "cell_type": "code",
   "execution_count": 3,
   "metadata": {},
   "outputs": [],
   "source": [
    "#selecting desired columns\n",
    "col_list= ['SERIALNO','WAGP','NOP','ANC1P','DECADE']"
   ]
  },
  {
   "cell_type": "code",
   "execution_count": 4,
   "metadata": {},
   "outputs": [],
   "source": [
    "#creating a dataframe with the columns\n",
    "df = data[col_list]"
   ]
  },
  {
   "cell_type": "code",
   "execution_count": 5,
   "metadata": {},
   "outputs": [
    {
     "data": {
      "text/html": [
       "<div>\n",
       "<style scoped>\n",
       "    .dataframe tbody tr th:only-of-type {\n",
       "        vertical-align: middle;\n",
       "    }\n",
       "\n",
       "    .dataframe tbody tr th {\n",
       "        vertical-align: top;\n",
       "    }\n",
       "\n",
       "    .dataframe thead th {\n",
       "        text-align: right;\n",
       "    }\n",
       "</style>\n",
       "<table border=\"1\" class=\"dataframe\">\n",
       "  <thead>\n",
       "    <tr style=\"text-align: right;\">\n",
       "      <th></th>\n",
       "      <th>SERIALNO</th>\n",
       "      <th>WAGP</th>\n",
       "      <th>NOP</th>\n",
       "      <th>ANC1P</th>\n",
       "      <th>DECADE</th>\n",
       "    </tr>\n",
       "  </thead>\n",
       "  <tbody>\n",
       "    <tr>\n",
       "      <th>0</th>\n",
       "      <td>84</td>\n",
       "      <td>0.0</td>\n",
       "      <td>NaN</td>\n",
       "      <td>999</td>\n",
       "      <td>NaN</td>\n",
       "    </tr>\n",
       "    <tr>\n",
       "      <th>1</th>\n",
       "      <td>154</td>\n",
       "      <td>52000.0</td>\n",
       "      <td>NaN</td>\n",
       "      <td>902</td>\n",
       "      <td>NaN</td>\n",
       "    </tr>\n",
       "    <tr>\n",
       "      <th>2</th>\n",
       "      <td>154</td>\n",
       "      <td>0.0</td>\n",
       "      <td>NaN</td>\n",
       "      <td>902</td>\n",
       "      <td>NaN</td>\n",
       "    </tr>\n",
       "    <tr>\n",
       "      <th>3</th>\n",
       "      <td>154</td>\n",
       "      <td>0.0</td>\n",
       "      <td>NaN</td>\n",
       "      <td>902</td>\n",
       "      <td>NaN</td>\n",
       "    </tr>\n",
       "    <tr>\n",
       "      <th>4</th>\n",
       "      <td>154</td>\n",
       "      <td>0.0</td>\n",
       "      <td>NaN</td>\n",
       "      <td>902</td>\n",
       "      <td>NaN</td>\n",
       "    </tr>\n",
       "  </tbody>\n",
       "</table>\n",
       "</div>"
      ],
      "text/plain": [
       "   SERIALNO     WAGP  NOP  ANC1P  DECADE\n",
       "0        84      0.0  NaN    999     NaN\n",
       "1       154  52000.0  NaN    902     NaN\n",
       "2       154      0.0  NaN    902     NaN\n",
       "3       154      0.0  NaN    902     NaN\n",
       "4       154      0.0  NaN    902     NaN"
      ]
     },
     "execution_count": 5,
     "metadata": {},
     "output_type": "execute_result"
    }
   ],
   "source": [
    "#checking the dataframe\n",
    "df.head()"
   ]
  },
  {
   "cell_type": "code",
   "execution_count": 6,
   "metadata": {},
   "outputs": [
    {
     "name": "stderr",
     "output_type": "stream",
     "text": [
      "C:\\anaconda\\lib\\site-packages\\ipykernel_launcher.py:2: SettingWithCopyWarning: \n",
      "A value is trying to be set on a copy of a slice from a DataFrame.\n",
      "Try using .loc[row_indexer,col_indexer] = value instead\n",
      "\n",
      "See the caveats in the documentation: http://pandas.pydata.org/pandas-docs/stable/indexing.html#indexing-view-versus-copy\n",
      "  \n"
     ]
    },
    {
     "data": {
      "text/html": [
       "<div>\n",
       "<style scoped>\n",
       "    .dataframe tbody tr th:only-of-type {\n",
       "        vertical-align: middle;\n",
       "    }\n",
       "\n",
       "    .dataframe tbody tr th {\n",
       "        vertical-align: top;\n",
       "    }\n",
       "\n",
       "    .dataframe thead th {\n",
       "        text-align: right;\n",
       "    }\n",
       "</style>\n",
       "<table border=\"1\" class=\"dataframe\">\n",
       "  <thead>\n",
       "    <tr style=\"text-align: right;\">\n",
       "      <th></th>\n",
       "      <th>SERIALNO</th>\n",
       "      <th>WAGP</th>\n",
       "      <th>NOP</th>\n",
       "      <th>ANC1P</th>\n",
       "      <th>DECADE</th>\n",
       "    </tr>\n",
       "  </thead>\n",
       "  <tbody>\n",
       "    <tr>\n",
       "      <th>0</th>\n",
       "      <td>84</td>\n",
       "      <td>NaN</td>\n",
       "      <td>NaN</td>\n",
       "      <td>999</td>\n",
       "      <td>NaN</td>\n",
       "    </tr>\n",
       "    <tr>\n",
       "      <th>1</th>\n",
       "      <td>154</td>\n",
       "      <td>52000.0</td>\n",
       "      <td>NaN</td>\n",
       "      <td>902</td>\n",
       "      <td>NaN</td>\n",
       "    </tr>\n",
       "    <tr>\n",
       "      <th>2</th>\n",
       "      <td>154</td>\n",
       "      <td>NaN</td>\n",
       "      <td>NaN</td>\n",
       "      <td>902</td>\n",
       "      <td>NaN</td>\n",
       "    </tr>\n",
       "    <tr>\n",
       "      <th>3</th>\n",
       "      <td>154</td>\n",
       "      <td>NaN</td>\n",
       "      <td>NaN</td>\n",
       "      <td>902</td>\n",
       "      <td>NaN</td>\n",
       "    </tr>\n",
       "    <tr>\n",
       "      <th>4</th>\n",
       "      <td>154</td>\n",
       "      <td>NaN</td>\n",
       "      <td>NaN</td>\n",
       "      <td>902</td>\n",
       "      <td>NaN</td>\n",
       "    </tr>\n",
       "  </tbody>\n",
       "</table>\n",
       "</div>"
      ],
      "text/plain": [
       "   SERIALNO     WAGP  NOP  ANC1P  DECADE\n",
       "0        84      NaN  NaN    999     NaN\n",
       "1       154  52000.0  NaN    902     NaN\n",
       "2       154      NaN  NaN    902     NaN\n",
       "3       154      NaN  NaN    902     NaN\n",
       "4       154      NaN  NaN    902     NaN"
      ]
     },
     "execution_count": 6,
     "metadata": {},
     "output_type": "execute_result"
    }
   ],
   "source": [
    "#replacing zero with NAN in wage column\n",
    "df['WAGP'] = df['WAGP'].replace(0, np.nan)\n",
    "df.head()"
   ]
  },
  {
   "cell_type": "code",
   "execution_count": 7,
   "metadata": {},
   "outputs": [
    {
     "data": {
      "text/html": [
       "<div>\n",
       "<style scoped>\n",
       "    .dataframe tbody tr th:only-of-type {\n",
       "        vertical-align: middle;\n",
       "    }\n",
       "\n",
       "    .dataframe tbody tr th {\n",
       "        vertical-align: top;\n",
       "    }\n",
       "\n",
       "    .dataframe thead th {\n",
       "        text-align: right;\n",
       "    }\n",
       "</style>\n",
       "<table border=\"1\" class=\"dataframe\">\n",
       "  <thead>\n",
       "    <tr style=\"text-align: right;\">\n",
       "      <th></th>\n",
       "      <th>Column</th>\n",
       "      <th>Counts</th>\n",
       "    </tr>\n",
       "  </thead>\n",
       "  <tbody>\n",
       "    <tr>\n",
       "      <th>0</th>\n",
       "      <td>SERIALNO</td>\n",
       "      <td>1613672</td>\n",
       "    </tr>\n",
       "    <tr>\n",
       "      <th>1</th>\n",
       "      <td>WAGP</td>\n",
       "      <td>761061</td>\n",
       "    </tr>\n",
       "    <tr>\n",
       "      <th>2</th>\n",
       "      <td>NOP</td>\n",
       "      <td>324105</td>\n",
       "    </tr>\n",
       "    <tr>\n",
       "      <th>3</th>\n",
       "      <td>ANC1P</td>\n",
       "      <td>1613672</td>\n",
       "    </tr>\n",
       "    <tr>\n",
       "      <th>4</th>\n",
       "      <td>DECADE</td>\n",
       "      <td>231280</td>\n",
       "    </tr>\n",
       "  </tbody>\n",
       "</table>\n",
       "</div>"
      ],
      "text/plain": [
       "     Column   Counts\n",
       "0  SERIALNO  1613672\n",
       "1      WAGP   761061\n",
       "2       NOP   324105\n",
       "3     ANC1P  1613672\n",
       "4    DECADE   231280"
      ]
     },
     "execution_count": 7,
     "metadata": {},
     "output_type": "execute_result"
    }
   ],
   "source": [
    "#checking individual countsfor all colmns\n",
    "df_count = df.count().rename_axis('Column').reset_index(name='Counts')\n",
    "df_count"
   ]
  },
  {
   "cell_type": "code",
   "execution_count": 8,
   "metadata": {},
   "outputs": [
    {
     "data": {
      "text/html": [
       "<div>\n",
       "<style scoped>\n",
       "    .dataframe tbody tr th:only-of-type {\n",
       "        vertical-align: middle;\n",
       "    }\n",
       "\n",
       "    .dataframe tbody tr th {\n",
       "        vertical-align: top;\n",
       "    }\n",
       "\n",
       "    .dataframe thead th {\n",
       "        text-align: right;\n",
       "    }\n",
       "</style>\n",
       "<table border=\"1\" class=\"dataframe\">\n",
       "  <thead>\n",
       "    <tr style=\"text-align: right;\">\n",
       "      <th></th>\n",
       "      <th>Responses</th>\n",
       "      <th>Counts</th>\n",
       "    </tr>\n",
       "  </thead>\n",
       "  <tbody>\n",
       "    <tr>\n",
       "      <th>0</th>\n",
       "      <td>&gt;00</td>\n",
       "      <td>78150</td>\n",
       "    </tr>\n",
       "    <tr>\n",
       "      <th>1</th>\n",
       "      <td>90-99</td>\n",
       "      <td>53793</td>\n",
       "    </tr>\n",
       "    <tr>\n",
       "      <th>2</th>\n",
       "      <td>80-89</td>\n",
       "      <td>42759</td>\n",
       "    </tr>\n",
       "    <tr>\n",
       "      <th>3</th>\n",
       "      <td>70-79</td>\n",
       "      <td>28033</td>\n",
       "    </tr>\n",
       "    <tr>\n",
       "      <th>4</th>\n",
       "      <td>60-69</td>\n",
       "      <td>17037</td>\n",
       "    </tr>\n",
       "    <tr>\n",
       "      <th>5</th>\n",
       "      <td>50-59</td>\n",
       "      <td>8408</td>\n",
       "    </tr>\n",
       "    <tr>\n",
       "      <th>6</th>\n",
       "      <td>&lt;50</td>\n",
       "      <td>3100</td>\n",
       "    </tr>\n",
       "  </tbody>\n",
       "</table>\n",
       "</div>"
      ],
      "text/plain": [
       "  Responses  Counts\n",
       "0       >00   78150\n",
       "1     90-99   53793\n",
       "2     80-89   42759\n",
       "3     70-79   28033\n",
       "4     60-69   17037\n",
       "5     50-59    8408\n",
       "6       <50    3100"
      ]
     },
     "execution_count": 8,
     "metadata": {},
     "output_type": "execute_result"
    }
   ],
   "source": [
    "#checking the counts by decade\n",
    "df_decade = df['DECADE'].value_counts().rename_axis('Responses').reset_index(name='Counts')\n",
    "df_decade['Responses'] = df_decade['Responses'].replace({1.0: '<50', 2.0: \"50-59\", 3.0: '60-69',\n",
    "                                                               4.0: '70-79', 5.0: \"80-89\",\n",
    "                                                               6.0: \"90-99\", 7.0: \">00\"})\n",
    "df_decade"
   ]
  },
  {
   "cell_type": "code",
   "execution_count": 9,
   "metadata": {},
   "outputs": [
    {
     "name": "stderr",
     "output_type": "stream",
     "text": [
      "C:\\anaconda\\lib\\site-packages\\ipykernel_launcher.py:4: SettingWithCopyWarning: \n",
      "A value is trying to be set on a copy of a slice from a DataFrame.\n",
      "Try using .loc[row_indexer,col_indexer] = value instead\n",
      "\n",
      "See the caveats in the documentation: http://pandas.pydata.org/pandas-docs/stable/indexing.html#indexing-view-versus-copy\n",
      "  after removing the cwd from sys.path.\n"
     ]
    }
   ],
   "source": [
    "#bining the data to diffrent ethnicity\n",
    "bins = [0,200,359,370,411,500,600,900,995,999]\n",
    "labels= ['European','Centeral American','South American','North African','Middle Eastern','African','Asian','American','Other']\n",
    "df['binned'] = pd.cut(df['ANC1P'], bins=bins, labels=labels)"
   ]
  },
  {
   "cell_type": "code",
   "execution_count": 10,
   "metadata": {},
   "outputs": [
    {
     "data": {
      "text/plain": [
       "SERIALNO    1613672\n",
       "WAGP         761061\n",
       "NOP          324105\n",
       "ANC1P       1613672\n",
       "DECADE       231280\n",
       "dtype: int64"
      ]
     },
     "execution_count": 10,
     "metadata": {},
     "output_type": "execute_result"
    }
   ],
   "source": [
    "#checking the count\n",
    "df.count().head()"
   ]
  },
  {
   "cell_type": "code",
   "execution_count": 11,
   "metadata": {},
   "outputs": [],
   "source": [
    "#checking counts for wages\n",
    "df_wagp = df['WAGP'].value_counts().rename_axis('Responses').reset_index(name='Counts')"
   ]
  },
  {
   "cell_type": "code",
   "execution_count": 12,
   "metadata": {},
   "outputs": [
    {
     "data": {
      "text/html": [
       "<div>\n",
       "<style scoped>\n",
       "    .dataframe tbody tr th:only-of-type {\n",
       "        vertical-align: middle;\n",
       "    }\n",
       "\n",
       "    .dataframe tbody tr th {\n",
       "        vertical-align: top;\n",
       "    }\n",
       "\n",
       "    .dataframe thead th {\n",
       "        text-align: right;\n",
       "    }\n",
       "</style>\n",
       "<table border=\"1\" class=\"dataframe\">\n",
       "  <thead>\n",
       "    <tr style=\"text-align: right;\">\n",
       "      <th></th>\n",
       "      <th>Responses</th>\n",
       "      <th>Counts</th>\n",
       "    </tr>\n",
       "  </thead>\n",
       "  <tbody>\n",
       "    <tr>\n",
       "      <th>0</th>\n",
       "      <td>30000.0</td>\n",
       "      <td>22547</td>\n",
       "    </tr>\n",
       "    <tr>\n",
       "      <th>1</th>\n",
       "      <td>40000.0</td>\n",
       "      <td>21124</td>\n",
       "    </tr>\n",
       "    <tr>\n",
       "      <th>2</th>\n",
       "      <td>50000.0</td>\n",
       "      <td>20848</td>\n",
       "    </tr>\n",
       "    <tr>\n",
       "      <th>3</th>\n",
       "      <td>20000.0</td>\n",
       "      <td>18768</td>\n",
       "    </tr>\n",
       "    <tr>\n",
       "      <th>4</th>\n",
       "      <td>60000.0</td>\n",
       "      <td>17357</td>\n",
       "    </tr>\n",
       "  </tbody>\n",
       "</table>\n",
       "</div>"
      ],
      "text/plain": [
       "   Responses  Counts\n",
       "0    30000.0   22547\n",
       "1    40000.0   21124\n",
       "2    50000.0   20848\n",
       "3    20000.0   18768\n",
       "4    60000.0   17357"
      ]
     },
     "execution_count": 12,
     "metadata": {},
     "output_type": "execute_result"
    }
   ],
   "source": [
    "df_wagp.head()"
   ]
  },
  {
   "cell_type": "code",
   "execution_count": 13,
   "metadata": {},
   "outputs": [
    {
     "data": {
      "text/html": [
       "<div>\n",
       "<style scoped>\n",
       "    .dataframe tbody tr th:only-of-type {\n",
       "        vertical-align: middle;\n",
       "    }\n",
       "\n",
       "    .dataframe tbody tr th {\n",
       "        vertical-align: top;\n",
       "    }\n",
       "\n",
       "    .dataframe thead th {\n",
       "        text-align: right;\n",
       "    }\n",
       "</style>\n",
       "<table border=\"1\" class=\"dataframe\">\n",
       "  <thead>\n",
       "    <tr style=\"text-align: right;\">\n",
       "      <th></th>\n",
       "      <th>Responses</th>\n",
       "      <th>Counts</th>\n",
       "    </tr>\n",
       "  </thead>\n",
       "  <tbody>\n",
       "    <tr>\n",
       "      <th>0</th>\n",
       "      <td>European</td>\n",
       "      <td>661965</td>\n",
       "    </tr>\n",
       "    <tr>\n",
       "      <th>1</th>\n",
       "      <td>American</td>\n",
       "      <td>348318</td>\n",
       "    </tr>\n",
       "    <tr>\n",
       "      <th>2</th>\n",
       "      <td>Other</td>\n",
       "      <td>254015</td>\n",
       "    </tr>\n",
       "    <tr>\n",
       "      <th>3</th>\n",
       "      <td>Centeral American</td>\n",
       "      <td>221861</td>\n",
       "    </tr>\n",
       "    <tr>\n",
       "      <th>4</th>\n",
       "      <td>Asian</td>\n",
       "      <td>99836</td>\n",
       "    </tr>\n",
       "  </tbody>\n",
       "</table>\n",
       "</div>"
      ],
      "text/plain": [
       "           Responses  Counts\n",
       "0           European  661965\n",
       "1           American  348318\n",
       "2              Other  254015\n",
       "3  Centeral American  221861\n",
       "4              Asian   99836"
      ]
     },
     "execution_count": 13,
     "metadata": {},
     "output_type": "execute_result"
    }
   ],
   "source": [
    "#checking binned counts\n",
    "df_binned = df['binned'].value_counts().rename_axis('Responses').reset_index(name='Counts')\n",
    "df_binned.head()"
   ]
  },
  {
   "cell_type": "code",
   "execution_count": 14,
   "metadata": {},
   "outputs": [
    {
     "data": {
      "text/html": [
       "<div>\n",
       "<style scoped>\n",
       "    .dataframe tbody tr th:only-of-type {\n",
       "        vertical-align: middle;\n",
       "    }\n",
       "\n",
       "    .dataframe tbody tr th {\n",
       "        vertical-align: top;\n",
       "    }\n",
       "\n",
       "    .dataframe thead th {\n",
       "        text-align: right;\n",
       "    }\n",
       "</style>\n",
       "<table border=\"1\" class=\"dataframe\">\n",
       "  <thead>\n",
       "    <tr style=\"text-align: right;\">\n",
       "      <th></th>\n",
       "      <th>Ethnicity</th>\n",
       "      <th>Avg_Income</th>\n",
       "    </tr>\n",
       "  </thead>\n",
       "  <tbody>\n",
       "    <tr>\n",
       "      <th>0</th>\n",
       "      <td>European</td>\n",
       "      <td>51946.05</td>\n",
       "    </tr>\n",
       "    <tr>\n",
       "      <th>1</th>\n",
       "      <td>Centeral American</td>\n",
       "      <td>31287.99</td>\n",
       "    </tr>\n",
       "    <tr>\n",
       "      <th>2</th>\n",
       "      <td>South American</td>\n",
       "      <td>41570.18</td>\n",
       "    </tr>\n",
       "    <tr>\n",
       "      <th>3</th>\n",
       "      <td>North African</td>\n",
       "      <td>58901.89</td>\n",
       "    </tr>\n",
       "    <tr>\n",
       "      <th>4</th>\n",
       "      <td>Middle Eastern</td>\n",
       "      <td>56407.93</td>\n",
       "    </tr>\n",
       "  </tbody>\n",
       "</table>\n",
       "</div>"
      ],
      "text/plain": [
       "           Ethnicity  Avg_Income\n",
       "0           European    51946.05\n",
       "1  Centeral American    31287.99\n",
       "2     South American    41570.18\n",
       "3      North African    58901.89\n",
       "4     Middle Eastern    56407.93"
      ]
     },
     "execution_count": 14,
     "metadata": {},
     "output_type": "execute_result"
    }
   ],
   "source": [
    "#average income by ethnicity\n",
    "df_eth_inc = round (df.groupby(\"binned\")['WAGP'].mean().rename_axis('Ethnicity').reset_index(name='Avg_Income'),2)\n",
    "df_eth_inc.head()"
   ]
  },
  {
   "cell_type": "code",
   "execution_count": 15,
   "metadata": {},
   "outputs": [
    {
     "data": {
      "text/plain": [
       "Text(0, 0.5, 'Ethnicity')"
      ]
     },
     "execution_count": 15,
     "metadata": {},
     "output_type": "execute_result"
    },
    {
     "data": {
      "image/png": "[encoded data removed]",
      "text/plain": [
       "<Figure size 432x288 with 1 Axes>"
      ]
     },
     "metadata": {
      "needs_background": "light"
     },
     "output_type": "display_data"
    }
   ],
   "source": [
    "#ploting the average income vs ethnicity\n",
    "colors =[viridis.colors[0],viridis.colors[1],viridis.colors[2],viridis.colors[3],\n",
    "         viridis.colors[4],viridis.colors[5],viridis.colors[6]]\n",
    "plt.barh(df_eth_inc['Ethnicity'],df_eth_inc['Avg_Income'], color = colors)\n",
    "\n",
    "plt.title('Average Income vs Ethnicity')\n",
    "plt.xlabel('Average Income')\n",
    "plt.ylabel('Ethnicity')\n"
   ]
  },
  {
   "cell_type": "code",
   "execution_count": 16,
   "metadata": {},
   "outputs": [],
   "source": [
    "#average income by decade of entery\n",
    "df_dec_inc = round (df.groupby(\"DECADE\")['WAGP'].mean().rename_axis('Decade').reset_index(name='Avg_Income'),2)\n",
    "df_dec_inc['Decade'] = df_dec_inc['Decade'].replace({1.0: '<50', 2.0: \"50-59\", 3.0: '60-69',\n",
    "                                                               4.0: '70-79', 5.0: \"80-89\",\n",
    "                                                               6.0: \"90-99\", 7.0: \">00\"})"
   ]
  },
  {
   "cell_type": "code",
   "execution_count": 17,
   "metadata": {},
   "outputs": [
    {
     "data": {
      "text/plain": [
       "Text(0, 0.5, 'Average Income')"
      ]
     },
     "execution_count": 17,
     "metadata": {},
     "output_type": "execute_result"
    },
    {
     "data": {
      "image/png": "[encoded data removed]",
      "text/plain": [
       "<Figure size 432x288 with 1 Axes>"
      ]
     },
     "metadata": {
      "needs_background": "light"
     },
     "output_type": "display_data"
    }
   ],
   "source": [
    "#plot of average income by decade entry\n",
    "plt.bar(df_dec_inc['Decade'],df_dec_inc['Avg_Income'], color = colors)\n",
    "\n",
    "plt.title('Average Income vs Decade')\n",
    "plt.xlabel('Decade')\n",
    "plt.ylabel('Average Income')\n"
   ]
  },
  {
   "cell_type": "code",
   "execution_count": 18,
   "metadata": {},
   "outputs": [],
   "source": [
    "#seperating ethnicity into different dataframes and geting average income by decade for each\n",
    "df_am = df[df['binned'] == 'American']\n",
    "df_eu = df[df['binned'] == 'European']\n",
    "df_ca = df[df['binned'] == 'Centeral American']\n",
    "df_sa = df[df['binned'] == 'South American']\n",
    "df_naf = df[df['binned'] == 'North African']\n",
    "df_me = df[df['binned'] == 'Middle Eastern']\n",
    "df_af = df[df['binned'] == 'African']\n",
    "df_as = df[df['binned'] == 'Asian']\n",
    "df_ot = df[df['binned'] == 'Other']\n",
    "df_am_test =round (df_am.groupby(\"DECADE\")['WAGP'].mean().rename_axis('Decade').reset_index(name='Avg_Income'),2)\n",
    "df_eu_test =round (df_eu.groupby(\"DECADE\")['WAGP'].mean().rename_axis('Decade').reset_index(name='Avg_Income'),2)\n",
    "df_ca_test =round (df_ca.groupby(\"DECADE\")['WAGP'].mean().rename_axis('Decade').reset_index(name='Avg_Income'),2)\n",
    "df_sa_test =round (df_sa.groupby(\"DECADE\")['WAGP'].mean().rename_axis('Decade').reset_index(name='Avg_Income'),2)\n",
    "df_naf_test =round (df_naf.groupby(\"DECADE\")['WAGP'].mean().rename_axis('Decade').reset_index(name='Avg_Income'),2)\n",
    "df_me_test =round (df_me.groupby(\"DECADE\")['WAGP'].mean().rename_axis('Decade').reset_index(name='Avg_Income'),2)\n",
    "df_af_test =round (df_af.groupby(\"DECADE\")['WAGP'].mean().rename_axis('Decade').reset_index(name='Avg_Income'),2)\n",
    "df_as_test =round (df_as.groupby(\"DECADE\")['WAGP'].mean().rename_axis('Decade').reset_index(name='Avg_Income'),2)\n",
    "df_ot_test =round (df_ot.groupby(\"DECADE\")['WAGP'].mean().rename_axis('Decade').reset_index(name='Avg_Income'),2)\n",
    "\n",
    "df_am_test['Decade'] = df_am_test['Decade'].replace({1.0: '<50', 2.0: \"50-59\", 3.0: '60-69', 4.0: '70-79', 5.0: \"80-89\", 6.0: \"90-99\", 7.0: \">00\"})\n",
    "df_eu_test['Decade'] = df_eu_test['Decade'].replace({1.0: '<50', 2.0: \"50-59\", 3.0: '60-69', 4.0: '70-79', 5.0: \"80-89\", 6.0: \"90-99\", 7.0: \">00\"})\n",
    "df_ca_test['Decade'] = df_ca_test['Decade'].replace({1.0: '<50', 2.0: \"50-59\", 3.0: '60-69', 4.0: '70-79', 5.0: \"80-89\", 6.0: \"90-99\", 7.0: \">00\"})\n",
    "df_sa_test['Decade'] = df_sa_test['Decade'].replace({1.0: '<50', 2.0: \"50-59\", 3.0: '60-69', 4.0: '70-79', 5.0: \"80-89\", 6.0: \"90-99\", 7.0: \">00\"})\n",
    "df_naf_test['Decade'] = df_naf_test['Decade'].replace({1.0: '<50', 2.0: \"50-59\", 3.0: '60-69', 4.0: '70-79', 5.0: \"80-89\", 6.0: \"90-99\", 7.0: \">00\"})\n",
    "df_me_test['Decade'] = df_me_test['Decade'].replace({1.0: '<50', 2.0: \"50-59\", 3.0: '60-69', 4.0: '70-79', 5.0: \"80-89\", 6.0: \"90-99\", 7.0: \">00\"})\n",
    "df_af_test['Decade'] = df_af_test['Decade'].replace({1.0: '<50', 2.0: \"50-59\", 3.0: '60-69', 4.0: '70-79', 5.0: \"80-89\", 6.0: \"90-99\", 7.0: \">00\"})\n",
    "df_as_test['Decade'] = df_as_test['Decade'].replace({1.0: '<50', 2.0: \"50-59\", 3.0: '60-69', 4.0: '70-79', 5.0: \"80-89\", 6.0: \"90-99\", 7.0: \">00\"})\n",
    "df_ot_test['Decade'] = df_ot_test['Decade'].replace({1.0: '<50', 2.0: \"50-59\", 3.0: '60-69', 4.0: '70-79', 5.0: \"80-89\", 6.0: \"90-99\", 7.0: \">00\"})"
   ]
  },
  {
   "cell_type": "code",
   "execution_count": 28,
   "metadata": {},
   "outputs": [
    {
     "data": {
      "image/png": "[encoded data removed]",
      "text/plain": [
       "<Figure size 432x288 with 1 Axes>"
      ]
     },
     "metadata": {
      "needs_background": "light"
     },
     "output_type": "display_data"
    }
   ],
   "source": [
    "#plotting the graphs\n",
    "plt.plot(df_am_test['Decade'],df_am_test['Avg_Income'], 'd', markeredgecolor = 'none', markerfacecolor='#33638DFF', label='American')\n",
    "plt.plot(df_eu_test['Decade'],df_eu_test['Avg_Income'],  'p', markeredgecolor = 'none', markerfacecolor='#440154FF', label='European')\n",
    "plt.plot(df_ca_test['Decade'],df_ca_test['Avg_Income'], 's',markeredgecolor = 'none', markerfacecolor= '#1F968BFF', label='C.American')\n",
    "plt.plot(df_sa_test['Decade'],df_sa_test['Avg_Income'], 'P', markeredgecolor = 'none', markerfacecolor= '#453781FF', label='S.American')\n",
    "plt.plot(df_naf_test['Decade'],df_naf_test['Avg_Income'], 'h', markeredgecolor = 'none', markerfacecolor= '#FDE725FF', label='N.African')\n",
    "plt.legend(loc='upper right')\n",
    "\n",
    "plt.title('Average Income vs Decade')\n",
    "plt.xlabel('Decade')\n",
    "plt.ylabel('Average Income')\n",
    "plt.savefig('Ethnic_Incomevsdecade1.png')  "
   ]
  },
  {
   "cell_type": "code",
   "execution_count": 29,
   "metadata": {},
   "outputs": [
    {
     "data": {
      "image/png": "[encoded data removed]",
      "text/plain": [
       "<Figure size 432x288 with 1 Axes>"
      ]
     },
     "metadata": {
      "needs_background": "light"
     },
     "output_type": "display_data"
    }
   ],
   "source": [
    "#checking single graph for income by entry\n",
    "\n",
    "plt.plot(df_me_test['Decade'],df_me_test['Avg_Income'], 'd', markeredgecolor = 'none', markerfacecolor= '#440154FF', label = 'M.Eastern')\n",
    "plt.plot(df_af_test['Decade'],df_af_test['Avg_Income'], 'p', markeredgecolor = 'none', markerfacecolor= '#1F968BFF', label = 'African')\n",
    "plt.plot(df_as_test['Decade'],df_as_test['Avg_Income'], 's', markeredgecolor = 'none', markerfacecolor= '#453781FF', label = 'Asian')\n",
    "plt.plot(df_ot_test['Decade'],df_ot_test['Avg_Income'], 'h', markeredgecolor = 'none', markerfacecolor= '#404788FF', label='Other')\n",
    "plt.legend(loc='upper right')\n",
    "\n",
    "plt.title('Average Income vs Decade')\n",
    "plt.xlabel('Decade')\n",
    "plt.ylabel('Average Income')\n",
    "plt.savefig('Ethnic_Incomevsdecade2.png')  "
   ]
  },
  {
   "cell_type": "code",
   "execution_count": null,
   "metadata": {},
   "outputs": [],
   "source": []
  }
 ],
 "metadata": {
  "kernelspec": {
   "display_name": "Python 3",
   "language": "python",
   "name": "python3"
  },
  "language_info": {
   "codemirror_mode": {
    "name": "ipython",
    "version": 3
   },
   "file_extension": ".py",
   "mimetype": "text/x-python",
   "name": "python",
   "nbconvert_exporter": "python",
   "pygments_lexer": "ipython3",
   "version": "3.7.3"
  }
 },
 "nbformat": 4,
 "nbformat_minor": 2
}
